{
 "cells": [
  {
   "cell_type": "markdown",
   "id": "df0d234f-1e1a-4495-8208-e177e7f527aa",
   "metadata": {},
   "source": [
    "Complete the exercises below For **Assignment #6**."
   ]
  },
  {
   "cell_type": "markdown",
   "id": "87391e24-01b9-48c0-b7c5-e7793174c708",
   "metadata": {},
   "source": [
    "Import the following items,\n",
    "- `pandas as pd`,\n",
    "- `LinearRegression` from the [`sklearn.linear_model`](https://scikit-learn.org/stable/modules/classes.html#module-sklearn.linear_model) module,\n",
    "- `make_column_transformer` from [`sklearn.compose`](https://scikit-learn.org/stable/modules/classes.html#module-sklearn.compose),\n",
    "- `OneHotEncoder` from [`sklearn.preprocessing`](https://scikit-learn.org/stable/modules/classes.html#module-sklearn.preprocessing),\n",
    "- `make_pipeline` from the [`sklearn.pipeline`](https://scikit-learn.org/stable/modules/classes.html#module-sklearn.pipeline) module, and,\n",
    "- everything from the [plotnine]() package."
   ]
  },
  {
   "cell_type": "code",
   "execution_count": null,
   "id": "ffe7ecbc-415c-4986-b8a7-10e9aeafd61b",
   "metadata": {},
   "outputs": [],
   "source": []
  },
  {
   "cell_type": "markdown",
   "id": "a8c917ce-495f-4026-9187-d4888a34326f",
   "metadata": {},
   "source": [
    "## Read in our data for this exercise"
   ]
  },
  {
   "cell_type": "markdown",
   "id": "5d0d08a5-7074-45a3-9b00-fa7f59956438",
   "metadata": {},
   "source": [
    "Use `pd.read_csv` to read in data from the following URL: http://bit.ly/2IgDF0E. Capture the data into a dataframe called `df_voles`.\n",
    "\n",
    "❗️Hint: just like in `R` we can read data directly from a URL."
   ]
  },
  {
   "cell_type": "code",
   "execution_count": null,
   "id": "d1d4055a-3dac-48bc-a6ec-9879994b5f9b",
   "metadata": {},
   "outputs": [],
   "source": []
  },
  {
   "cell_type": "markdown",
   "id": "e00b9c9f-5a15-418a-89e6-8e14439b0c7e",
   "metadata": {},
   "source": [
    "Preview the data with the `.head()` method.\n",
    "\n",
    "The data contains the variables:\n",
    "\n",
    "- `site` for the id of each random study site (each case or row is a survey/trapping site)\n",
    "- `voles` for the vole count at each site\n",
    "- `veg` for the percent cover of vegetation at each site\n",
    "- `soil` identifying a site as “moist” or “dry”"
   ]
  },
  {
   "cell_type": "code",
   "execution_count": null,
   "id": "0d254d36-6385-4de1-b9bb-ee5a0f935ede",
   "metadata": {},
   "outputs": [],
   "source": []
  },
  {
   "cell_type": "markdown",
   "id": "f2db9624-5099-4e06-8866-63d2bbc5625b",
   "metadata": {},
   "source": [
    "## EDA"
   ]
  },
  {
   "cell_type": "markdown",
   "id": "57f31990-7edd-439c-863b-ff3193e89d20",
   "metadata": {},
   "source": [
    "Let's make a few figures from `df_voles` using `ggplot` from **Plotnine**."
   ]
  },
  {
   "cell_type": "markdown",
   "id": "29c136cc-c5bc-418f-811b-690ca86de90b",
   "metadata": {},
   "source": [
    "In the cell below plot the `voles` variable (y-axis) versus the `veg` variable and color points by the `soil` variable."
   ]
  },
  {
   "cell_type": "code",
   "execution_count": null,
   "id": "aaca4f0d-de37-4ee9-8248-e57a1c962cd8",
   "metadata": {},
   "outputs": [],
   "source": []
  },
  {
   "cell_type": "markdown",
   "id": "53f6ed9a-5700-40a5-aa86-4cfccc2ad9a2",
   "metadata": {},
   "source": [
    "## Modeling"
   ]
  },
  {
   "cell_type": "markdown",
   "id": "87017459-117a-4638-8337-275c0cbe9ad5",
   "metadata": {},
   "source": [
    "In the cell below, model `voles` with `soil` and `veg` as predictors in a parallel slopes model. \n",
    "\n",
    "Here are the steps I would take:\n",
    "1. Make a column transformer with `make_column_transformer` that transforms `soil` with `OneHotEncoder(drop=\"first\")` and passes 'veg' through untransformed.\n",
    "2. Create a pipeline with `make_pipeline` using the column transformer from above and `LinearRegression()` as my model. \n",
    "3. Get the `X` (training data) and `y` predictor from `df_voles`\n",
    "4. Use the `.fit()` method for the pipeline to train the model with `X` and `y`. "
   ]
  },
  {
   "cell_type": "code",
   "execution_count": null,
   "id": "4e3be292-b264-4a01-9f77-f0f9274e32bd",
   "metadata": {},
   "outputs": [],
   "source": []
  },
  {
   "cell_type": "markdown",
   "id": "e962265e-ea51-420b-a4ac-2b1d6cdfb421",
   "metadata": {},
   "source": [
    "Use the function below to get the parameter values for your model from above."
   ]
  },
  {
   "cell_type": "code",
   "execution_count": 6,
   "id": "661261c1-c258-41d1-a998-eb223e41ad6d",
   "metadata": {},
   "outputs": [],
   "source": [
    "def get_regression_table(pipeline):\n",
    "    terms=list(pl['columntransformer'].get_feature_names_out()) + ['intercept']\n",
    "    mod = pl['linearregression']\n",
    "    estimates = list(mod.coef_) + [mod.intercept_]\n",
    "    data = dict(\n",
    "        term=terms, \n",
    "        estimate=estimates,\n",
    "    )\n",
    "    return pd.DataFrame(data)"
   ]
  },
  {
   "cell_type": "code",
   "execution_count": null,
   "id": "4f4f7c7e-4b6b-4e37-ab93-8e29f354596a",
   "metadata": {},
   "outputs": [],
   "source": []
  },
  {
   "cell_type": "markdown",
   "id": "51fedd24-d906-4cf3-97d7-abc1cc42b01d",
   "metadata": {},
   "source": [
    "❓Would protecting a site with high vegetation cover be a more effective way to preserve the vole population than a site with low vegetation cover? Why?\n",
    "\n",
    "(**Hint:** use your chart above to answer. It's also possible to leverage your regression parameters if you chose to model `voles` with a parallel slopes model.)\n",
    "\n",
    "**Answer:**"
   ]
  },
  {
   "cell_type": "code",
   "execution_count": null,
   "id": "1485eb7f-1a2b-412e-abc3-54ad36917124",
   "metadata": {},
   "outputs": [],
   "source": []
  },
  {
   "cell_type": "markdown",
   "id": "0c4c842e-126d-4734-9a04-10895770b55f",
   "metadata": {},
   "source": [
    "❓Dry sites typically cost a lot less to purchase and maintain for conservation organizations. Thus, if a conservation organization decides to purchase a few dry sites, roughly what percent cover of vegetation do they need to maintain on these sites (at a minimum) to support a population of about 30 voles at the site?\n",
    "\n",
    "(**Hint:** In your chart above, draw a line at voles = 30 using `geom_hline` and make a rough estimate for this answer...)\n",
    "\n",
    "**Answer:**"
   ]
  },
  {
   "cell_type": "code",
   "execution_count": null,
   "id": "c70010f1-ae44-42f4-be50-64110aa6d0da",
   "metadata": {},
   "outputs": [],
   "source": []
  },
  {
   "cell_type": "markdown",
   "id": "6166ce22-a811-4f8e-8daa-8cb09194c827",
   "metadata": {},
   "source": [
    "❓The Nature Conservancy is looking at purchasing a site for this species (in the same study area) that has moist soil and 40% vegetation cover. Using the regression equation what would you predict as the possible vole population the site might be able to support?\n",
    "\n",
    "(**Hint:** Use `.predict(pd.DataFrame({\"soil\": [\"moist\"], \"veg\": [40]}))` with yout pipeline.)\n",
    "\n",
    "**Answer:**"
   ]
  },
  {
   "cell_type": "code",
   "execution_count": null,
   "id": "1bfb253a-3eb1-4d80-a928-2605407c68f6",
   "metadata": {},
   "outputs": [],
   "source": []
  }
 ],
 "metadata": {
  "kernelspec": {
   "display_name": "Python 3 (ipykernel)",
   "language": "python",
   "name": "python3"
  },
  "language_info": {
   "codemirror_mode": {
    "name": "ipython",
    "version": 3
   },
   "file_extension": ".py",
   "mimetype": "text/x-python",
   "name": "python",
   "nbconvert_exporter": "python",
   "pygments_lexer": "ipython3",
   "version": "3.12.1"
  }
 },
 "nbformat": 4,
 "nbformat_minor": 5
}
